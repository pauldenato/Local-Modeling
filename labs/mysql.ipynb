{
 "cells": [
  {
   "cell_type": "markdown",
   "id": "f557d874-ddc0-4ab5-8f33-100fde77d819",
   "metadata": {
    "tags": []
   },
   "source": [
    "# **MySQL Set up**"
   ]
  },
  {
   "cell_type": "code",
   "execution_count": 6,
   "id": "0bec59d4-de3e-46ea-bfc0-29ccb34148a3",
   "metadata": {},
   "outputs": [
    {
     "data": {
      "application/vnd.jupyter.widget-view+json": {
       "model_id": "",
       "version_major": 2,
       "version_minor": 0
      },
      "text/plain": [
       "FloatProgress(value=0.0, bar_style='info', description='Progress:', layout=Layout(height='25px', width='50%'),…"
      ]
     },
     "metadata": {},
     "output_type": "display_data"
    },
    {
     "name": "stdout",
     "output_type": "stream",
     "text": [
      "+-----------------+---------------+-----+---------+-----+---------+--------+-------+------+------+----+----+-----+-----+----+-----+----+-------+\n",
      "|Player           |School         |Class|Birthdate|Years|Final Age|Position|Combine|Height|Weight|Hand|Arm |Forty|Bench|Vert|Broad|Cone|Shuttle|\n",
      "+-----------------+---------------+-----+---------+-----+---------+--------+-------+------+------+----+----+-----+-----+----+-----+----+-------+\n",
      "|Braelon Allen    |Wisconsin      |2021 |1/20/2004|3    |20.0     |RB      |1      |73.3  |235   |9.3 |31.3|     |26   |32.0|117  |    |       |\n",
      "|Audric Estime    |Notre Dame     |2021 |9/6/2003 |3    |20.3     |RB      |1      |71.4  |221   |10.3|32.4|4.71 |23   |38.0|125  |    |       |\n",
      "|Malik Nabers     |Louisiana State|2021 |7/28/2003|3    |20.4     |WR      |1      |      |      |    |    |     |     |    |     |    |       |\n",
      "|Jonathon Brooks  |Texas          |2021 |7/21/2003|3    |20.5     |RB      |1      |72.4  |216   |9.3 |31.5|     |     |    |     |    |       |\n",
      "|Keon Coleman     |Florida State  |2021 |5/17/2003|3    |20.6     |WR      |1      |75.3  |213   |9.4 |32.1|4.61 |     |38.0|127  |    |       |\n",
      "|Xavier Worthy    |Texas          |2021 |4/27/2003|3    |20.7     |WR      |1      |71.3  |165   |8.8 |31.1|4.21 |     |41.0|131  |    |       |\n",
      "|Jaylen Wright    |Tennessee      |2021 |4/1/2003 |3    |20.8     |RB      |1      |70.5  |210   |9.4 |31.5|4.38 |     |38.0|134  |    |       |\n",
      "|Ja'Tavion Sanders|Texas          |2021 |3/27/2003|3    |20.8     |TE      |1      |75.9  |245   |10.1|32.9|4.69 |     |    |     |    |4.32   |\n",
      "|Troy Franklin    |Oregon         |2021 |2/6/2003 |3    |20.9     |WR      |1      |73.9  |183   |8.6 |31.9|4.41 |     |39.0|124  |6.90|4.31   |\n",
      "|J.J. McCarthy    |Michigan       |2021 |1/20/2003|3    |21.0     |QB      |1      |74.5  |219   |9.0 |31.6|     |     |    |     |6.82|4.23   |\n",
      "+-----------------+---------------+-----+---------+-----+---------+--------+-------+------+------+----+----+-----+-----+----+-----+----+-------+\n",
      "only showing top 10 rows"
     ]
    }
   ],
   "source": [
    "import os\n",
    "from pyspark.sql import SparkSession, SQLContext\n",
    "from pyspark.sql.functions import col, when, length\n",
    "from pyspark.sql import SparkSession\n",
    "\n",
    "#data is stored in \"/labs\" locally\n",
    "project_dir = \"jupyter_workspace\"\n",
    "\n",
    "# You can explore the different folders using \n",
    "# `os.listdir()`\n",
    "drivers = os.listdir(f\"{project_dir}\")\n",
    "\n",
    "# MySQL 8 requires a specific driver\n",
    "spark = SparkSession.builder \\\n",
    "        .config(\"spark.jars\", \"mysql-connector-j-8.3.0.jar\") \\\n",
    "        .master(\"local\").appName(\"PySpark_MySQL_test\").getOrCreate()\n",
    "# create url to connect to MySQL\n",
    "# we use the service here \"db\" rather than the localhost\n",
    "# we're also using the 3306 port since this is container to container\n",
    "# to connect SQL ide we'll use the 13306 defined in our compose\n",
    "url = \"jdbc:mysql://db:3306/db\"\n",
    "\n",
    "# More connection props\n",
    "# for local only \"PLEASE never use root and password in the real world\"\n",
    "properties = {\n",
    "    \"user\": \"root\",\n",
    "    \"password\": \"password\",\n",
    "    \"driver\": \"com.mysql.jdbc.Driver\"\n",
    "}\n",
    "# table name variable\n",
    "# this will need to be loaded via the /csv in the labs\n",
    "table_name = \"2024_nfl_prospects\"\n",
    "\n",
    "# read the table\n",
    "df = spark.read.jdbc(url, table_name, properties=properties)\n",
    "\n",
    "# show the top 10 records\n",
    "df.show(10,False)\n"
   ]
  },
  {
   "cell_type": "markdown",
   "id": "f0247abd-7241-460e-ae3c-66d7e01dcd22",
   "metadata": {},
   "source": [
    "## **Add Column and Query Results**"
   ]
  },
  {
   "cell_type": "code",
   "execution_count": 3,
   "id": "70784486-4338-4be2-9807-b322d5899baa",
   "metadata": {},
   "outputs": [
    {
     "data": {
      "application/vnd.jupyter.widget-view+json": {
       "model_id": "",
       "version_major": 2,
       "version_minor": 0
      },
      "text/plain": [
       "FloatProgress(value=0.0, bar_style='info', description='Progress:', layout=Layout(height='25px', width='50%'),…"
      ]
     },
     "metadata": {},
     "output_type": "display_data"
    },
    {
     "name": "stdout",
     "output_type": "stream",
     "text": [
      "+----------------+-------------------+-----+----------+-----+---------+--------+-------+------+------+----+----+-----+-----+----+-----+----+-------+-------+\n",
      "|          Player|             School|Class| Birthdate|Years|Final Age|Position|Combine|Height|Weight|Hand| Arm|Forty|Bench|Vert|Broad|Cone|Shuttle|is_fast|\n",
      "+----------------+-------------------+-----+----------+-----+---------+--------+-------+------+------+----+----+-----+-----+----+-----+----+-------+-------+\n",
      "|   Xavier Worthy|              Texas| 2021| 4/27/2003|    3|     20.7|      WR|      1|  71.3|   165| 8.8|31.1| 4.21|     |41.0|  131|    |       | faster|\n",
      "|   Jaylen Wright|          Tennessee| 2021|  4/1/2003|    3|     20.8|      RB|      1|  70.5|   210| 9.4|31.5| 4.38|     |38.0|  134|    |       | faster|\n",
      "|   Troy Franklin|             Oregon| 2021|  2/6/2003|    3|     20.9|      WR|      1|  73.9|   183| 8.6|31.9| 4.41|     |39.0|  124|6.90|   4.31| faster|\n",
      "| Adonai Mitchell|              Texas| 2021| 10/8/2002|    3|     21.2|      WR|      1|  74.3|   205| 9.0|32.4| 4.34|     |39.5|  136|    |       | faster|\n",
      "|Brian Thomas Jr.|    Louisiana State| 2021| 10/8/2002|    3|     21.2|      WR|      1|  74.9|   209| 9.8|32.8| 4.33|     |38.5|  126|    |       | faster|\n",
      "|    Bucky Irving|             Oregon| 2021| 8/19/2002|    3|     21.4|      RB|      1|  69.0|   192| 9.5|29.5| 4.55|     |29.5|  115|    |       | faster|\n",
      "|     Trey Benson|      Florida State| 2020| 7/23/2002|    4|     21.5|      RB|      1|  72.3|   216| 9.3|31.5| 4.39|     |33.5|  122|    |       | faster|\n",
      "|     Rome Odunze|         Washington| 2020|  6/3/2002|    4|     21.6|      WR|      1|  74.9|   212| 9.3|32.3| 4.45|     |39.0|  124|6.88|   4.03| faster|\n",
      "|   Jaden Shirden|           Monmouth| 2020|  5/2/2002|    4|     21.7|      RB|      1|  68.0|   187| 9.3|28.8| 4.45|     |34.5|  117|    |       | faster|\n",
      "|    Ja'Lynn Polk|         Washington| 2020| 4/11/2002|    4|     21.7|      WR|      1|  73.4|   203| 9.8|31.8| 4.52|     |    |  129|    |       | faster|\n",
      "|    Brenden Rice|Southern California| 2020| 3/18/2002|    4|     21.8|      WR|      1|  74.4|   208| 9.6|33.0| 4.50|     |36.5|  119|    |       | faster|\n",
      "|    Isaiah Davis| South Dakota State| 2020| 2/21/2002|    4|     21.9|      RB|      1|  72.3|   218|10.3|31.1| 4.57|   23|34.5|  119|    |       | faster|\n",
      "|     Javon Baker|    Central Florida| 2020| 2/18/2002|    4|     21.9|      WR|      1|  73.3|   202| 9.6|32.3| 4.54|     |37.0|  121|    |       | faster|\n",
      "|  Jalen McMillan|         Washington| 2020| 12/7/2001|    4|     22.1|      WR|      1|  73.0|   197|10.0|32.1| 4.47|     |37.0|  127|6.94|   4.18| faster|\n",
      "|   Ladd McConkey|            Georgia| 2020|11/11/2001|    4|     22.2|      WR|      1|  71.6|   186| 8.6|30.3| 4.39|     |36.0|  124|    |       | faster|\n",
      "|     Jalen Coker|         Holy Cross| 2020|10/30/2001|    4|     22.2|      WR|      1|  73.4|   208| 9.9|32.9| 4.57|     |42.5|  128|    |       | faster|\n",
      "|    Kimani Vidal|               Troy| 2020| 8/28/2001|    4|     22.4|      RB|      1|  67.9|   213| 9.4|30.4| 4.46|   18|37.5|  120|7.01|   4.15| faster|\n",
      "| Jermaine Burton|            Alabama| 2020| 6/28/2001|    4|     22.5|      WR|      1|  72.3|   196| 9.9|31.0| 4.45|     |38.5|  133|    |       | faster|\n",
      "| Devontez Walker|     North Carolina| 2020| 6/19/2001|    4|     22.5|      WR|      1|  73.5|   193| 9.1|33.3| 4.36|     |40.5|  134|    |       | faster|\n",
      "|    Roman Wilson|           Michigan| 2020| 6/19/2001|    4|     22.5|      WR|      1|  70.8|   185| 9.4|30.4| 4.39|     |    |     |    |       | faster|\n",
      "+----------------+-------------------+-----+----------+-----+---------+--------+-------+------+------+----+----+-----+-----+----+-----+----+-------+-------+\n",
      "only showing top 20 rows"
     ]
    }
   ],
   "source": [
    "# Create a DataFrame called df1\n",
    "\n",
    "# Create a new column in the Dataframe called \"is_fast\"\n",
    "# using the \"Forty\" Column add the values accordingly based on the times\n",
    "    # \"\" = No Time\n",
    "    # < 4.6 = faster\n",
    "    # between 4.6, 5.2 = fast\n",
    "    # All Others = slow\n",
    "\n",
    "df1 = df.withColumn(\n",
    "    \"is_fast\",\n",
    "    when(length(\"Forty\")== 0, \"No Time\")\n",
    "    .when(col(\"Forty\") < 4.6, \"faster\")\n",
    "    .when(col(\"Forty\").between(4.61, 5.2), \"fast\")\n",
    "    .otherwise(\"slow\")\n",
    ")\n",
    "\n",
    "# Show only participants with faster in the new column. \n",
    "df1.where(col(\"is_fast\").isin([\"faster\"])).show()"
   ]
  },
  {
   "cell_type": "code",
   "execution_count": null,
   "id": "c65fb115-fdce-4993-9ad7-13071c073613",
   "metadata": {},
   "outputs": [],
   "source": []
  }
 ],
 "metadata": {
  "kernelspec": {
   "display_name": "PySpark",
   "language": "python",
   "name": "pysparkkernel"
  },
  "language_info": {
   "codemirror_mode": {
    "name": "python",
    "version": 3
   },
   "file_extension": ".py",
   "mimetype": "text/x-python",
   "name": "pyspark",
   "pygments_lexer": "python3"
  }
 },
 "nbformat": 4,
 "nbformat_minor": 5
}
